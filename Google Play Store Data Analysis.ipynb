{
 "cells": [
  {
   "cell_type": "code",
   "execution_count": 1,
   "id": "9ed2ba39-49c3-477d-81ab-820676042de2",
   "metadata": {},
   "outputs": [],
   "source": [
    "import pandas as pd\n",
    "import numpy as np\n",
    "import seaborn as sns"
   ]
  },
  {
   "cell_type": "code",
   "execution_count": 2,
   "id": "064043c4-4312-4343-af1e-b41dc13f7e0a",
   "metadata": {},
   "outputs": [
    {
     "data": {
      "text/html": [
       "<div>\n",
       "<style scoped>\n",
       "    .dataframe tbody tr th:only-of-type {\n",
       "        vertical-align: middle;\n",
       "    }\n",
       "\n",
       "    .dataframe tbody tr th {\n",
       "        vertical-align: top;\n",
       "    }\n",
       "\n",
       "    .dataframe thead th {\n",
       "        text-align: right;\n",
       "    }\n",
       "</style>\n",
       "<table border=\"1\" class=\"dataframe\">\n",
       "  <thead>\n",
       "    <tr style=\"text-align: right;\">\n",
       "      <th></th>\n",
       "      <th>App</th>\n",
       "      <th>Category</th>\n",
       "      <th>Rating</th>\n",
       "      <th>Reviews</th>\n",
       "      <th>Size</th>\n",
       "      <th>Installs</th>\n",
       "      <th>Type</th>\n",
       "      <th>Price</th>\n",
       "      <th>Content Rating</th>\n",
       "      <th>Genres</th>\n",
       "      <th>Last Updated</th>\n",
       "      <th>Current Ver</th>\n",
       "      <th>Android Ver</th>\n",
       "    </tr>\n",
       "  </thead>\n",
       "  <tbody>\n",
       "    <tr>\n",
       "      <th>9737</th>\n",
       "      <td>Hospital ER Emergency Heart Surgery: Doctor Games</td>\n",
       "      <td>FAMILY</td>\n",
       "      <td>3.8</td>\n",
       "      <td>1652</td>\n",
       "      <td>71M</td>\n",
       "      <td>100,000+</td>\n",
       "      <td>Free</td>\n",
       "      <td>0</td>\n",
       "      <td>Everyone</td>\n",
       "      <td>Simulation</td>\n",
       "      <td>11-Jul-18</td>\n",
       "      <td>10</td>\n",
       "      <td>4.1 and up</td>\n",
       "    </tr>\n",
       "    <tr>\n",
       "      <th>1832</th>\n",
       "      <td>Clue</td>\n",
       "      <td>GAME</td>\n",
       "      <td>4.6</td>\n",
       "      <td>19922</td>\n",
       "      <td>35M</td>\n",
       "      <td>100,000+</td>\n",
       "      <td>Paid</td>\n",
       "      <td>$1.99</td>\n",
       "      <td>Everyone 10+</td>\n",
       "      <td>Board</td>\n",
       "      <td>30-Jul-18</td>\n",
       "      <td>2.2.5</td>\n",
       "      <td>5.0 and up</td>\n",
       "    </tr>\n",
       "    <tr>\n",
       "      <th>9659</th>\n",
       "      <td>FAST EO</td>\n",
       "      <td>EVENTS</td>\n",
       "      <td>5.0</td>\n",
       "      <td>1</td>\n",
       "      <td>Varies with device</td>\n",
       "      <td>10+</td>\n",
       "      <td>Free</td>\n",
       "      <td>0</td>\n",
       "      <td>Everyone</td>\n",
       "      <td>Events</td>\n",
       "      <td>15-May-18</td>\n",
       "      <td>1.0.3</td>\n",
       "      <td>4.1 and up</td>\n",
       "    </tr>\n",
       "    <tr>\n",
       "      <th>10499</th>\n",
       "      <td>HD Themes Toyota Cruiser 100VX</td>\n",
       "      <td>PERSONALIZATION</td>\n",
       "      <td>NaN</td>\n",
       "      <td>2</td>\n",
       "      <td>16M</td>\n",
       "      <td>100+</td>\n",
       "      <td>Free</td>\n",
       "      <td>0</td>\n",
       "      <td>Teen</td>\n",
       "      <td>Personalization</td>\n",
       "      <td>30-Sep-16</td>\n",
       "      <td>1</td>\n",
       "      <td>2.3.3 and up</td>\n",
       "    </tr>\n",
       "    <tr>\n",
       "      <th>2412</th>\n",
       "      <td>abeoCoder</td>\n",
       "      <td>MEDICAL</td>\n",
       "      <td>3.1</td>\n",
       "      <td>83</td>\n",
       "      <td>3.2M</td>\n",
       "      <td>10,000+</td>\n",
       "      <td>Free</td>\n",
       "      <td>0</td>\n",
       "      <td>Everyone</td>\n",
       "      <td>Medical</td>\n",
       "      <td>30-Jul-18</td>\n",
       "      <td>6.6</td>\n",
       "      <td>4.1 and up</td>\n",
       "    </tr>\n",
       "  </tbody>\n",
       "</table>\n",
       "</div>"
      ],
      "text/plain": [
       "                                                     App         Category  \\\n",
       "9737   Hospital ER Emergency Heart Surgery: Doctor Games           FAMILY   \n",
       "1832                                                Clue             GAME   \n",
       "9659                                             FAST EO           EVENTS   \n",
       "10499                     HD Themes Toyota Cruiser 100VX  PERSONALIZATION   \n",
       "2412                                           abeoCoder          MEDICAL   \n",
       "\n",
       "       Rating Reviews                Size  Installs  Type   Price  \\\n",
       "9737      3.8    1652                 71M  100,000+  Free       0   \n",
       "1832      4.6   19922                 35M  100,000+  Paid  $1.99    \n",
       "9659      5.0       1  Varies with device       10+  Free       0   \n",
       "10499     NaN       2                 16M      100+  Free       0   \n",
       "2412      3.1      83                3.2M   10,000+  Free       0   \n",
       "\n",
       "      Content Rating           Genres Last Updated Current Ver   Android Ver  \n",
       "9737        Everyone       Simulation    11-Jul-18          10    4.1 and up  \n",
       "1832    Everyone 10+            Board    30-Jul-18       2.2.5    5.0 and up  \n",
       "9659        Everyone           Events    15-May-18       1.0.3    4.1 and up  \n",
       "10499           Teen  Personalization    30-Sep-16           1  2.3.3 and up  \n",
       "2412        Everyone          Medical    30-Jul-18         6.6    4.1 and up  "
      ]
     },
     "execution_count": 2,
     "metadata": {},
     "output_type": "execute_result"
    }
   ],
   "source": [
    "df = pd.read_csv('googleplaystore.csv')\n",
    "df.sample(5)"
   ]
  },
  {
   "cell_type": "markdown",
   "id": "95991356-db2a-4fb2-8aee-6634ca2f6003",
   "metadata": {},
   "source": [
    "### DATA CLEANING"
   ]
  },
  {
   "cell_type": "markdown",
   "id": "1616bb8c-68fe-428d-8afd-ddfec560c037",
   "metadata": {},
   "source": [
    "### 1. Which of the following column(s) has/have null values?"
   ]
  },
  {
   "cell_type": "code",
   "execution_count": 3,
   "id": "b87e9d9e-9da5-45f2-8225-1b620ae41e55",
   "metadata": {},
   "outputs": [
    {
     "data": {
      "text/plain": [
       "Rating            1474\n",
       "Current Ver          8\n",
       "Android Ver          3\n",
       "Type                 1\n",
       "Content Rating       1\n",
       "App                  0\n",
       "Category             0\n",
       "Reviews              0\n",
       "Size                 0\n",
       "Installs             0\n",
       "Price                0\n",
       "Genres               0\n",
       "Last Updated         0\n",
       "dtype: int64"
      ]
     },
     "execution_count": 3,
     "metadata": {},
     "output_type": "execute_result"
    }
   ],
   "source": [
    "df.isna().sum().sort_values(ascending=False)"
   ]
  },
  {
   "cell_type": "markdown",
   "id": "6c49c856-b944-4960-8f74-905b32c91263",
   "metadata": {},
   "source": [
    "### 2. Clean the Rating column and the other columns containing null values"
   ]
  },
  {
   "cell_type": "code",
   "execution_count": 4,
   "id": "b64554d5-abc0-42d1-82c6-2c49fdce3591",
   "metadata": {},
   "outputs": [
    {
     "name": "stdout",
     "output_type": "stream",
     "text": [
      "<class 'pandas.core.frame.DataFrame'>\n",
      "RangeIndex: 10841 entries, 0 to 10840\n",
      "Data columns (total 13 columns):\n",
      " #   Column          Non-Null Count  Dtype  \n",
      "---  ------          --------------  -----  \n",
      " 0   App             10841 non-null  object \n",
      " 1   Category        10841 non-null  object \n",
      " 2   Rating          9367 non-null   float64\n",
      " 3   Reviews         10841 non-null  object \n",
      " 4   Size            10841 non-null  object \n",
      " 5   Installs        10841 non-null  object \n",
      " 6   Type            10840 non-null  object \n",
      " 7   Price           10841 non-null  object \n",
      " 8   Content Rating  10840 non-null  object \n",
      " 9   Genres          10841 non-null  object \n",
      " 10  Last Updated    10841 non-null  object \n",
      " 11  Current Ver     10833 non-null  object \n",
      " 12  Android Ver     10838 non-null  object \n",
      "dtypes: float64(1), object(12)\n",
      "memory usage: 1.1+ MB\n"
     ]
    }
   ],
   "source": [
    "df.info()"
   ]
  },
  {
   "cell_type": "code",
   "execution_count": 5,
   "id": "826db64f-b536-4a75-813d-e44080b60cff",
   "metadata": {},
   "outputs": [
    {
     "data": {
      "text/plain": [
       "<Axes: ylabel='Frequency'>"
      ]
     },
     "execution_count": 5,
     "metadata": {},
     "output_type": "execute_result"
    },
    {
     "data": {
      "image/png": "[encoded data removed]",
      "text/plain": [
       "<Figure size 640x480 with 1 Axes>"
      ]
     },
     "metadata": {},
     "output_type": "display_data"
    }
   ],
   "source": [
    "df['Rating'].plot(kind='hist')"
   ]
  },
  {
   "cell_type": "code",
   "execution_count": 6,
   "id": "ec98a5a1-c157-4d78-a2f6-be96d361dc18",
   "metadata": {},
   "outputs": [
    {
     "data": {
      "text/plain": [
       "<Axes: >"
      ]
     },
     "execution_count": 6,
     "metadata": {},
     "output_type": "execute_result"
    },
    {
     "data": {
      "image/png": "[encoded data removed]",
      "text/plain": [
       "<Figure size 640x480 with 1 Axes>"
      ]
     },
     "metadata": {},
     "output_type": "display_data"
    }
   ],
   "source": [
    "df['Rating'].plot(kind='box', vert=False)"
   ]
  },
  {
   "cell_type": "code",
   "execution_count": 7,
   "id": "1f2e1821-9eff-4b19-9d1f-0cad573b7ae6",
   "metadata": {},
   "outputs": [],
   "source": [
    "df.loc[df['Rating']>5,'Rating']=np.nan"
   ]
  },
  {
   "cell_type": "code",
   "execution_count": 8,
   "id": "980c422d-9896-4360-941c-9cfad9e5ef01",
   "metadata": {},
   "outputs": [
    {
     "data": {
      "text/html": [
       "<div>\n",
       "<style scoped>\n",
       "    .dataframe tbody tr th:only-of-type {\n",
       "        vertical-align: middle;\n",
       "    }\n",
       "\n",
       "    .dataframe tbody tr th {\n",
       "        vertical-align: top;\n",
       "    }\n",
       "\n",
       "    .dataframe thead th {\n",
       "        text-align: right;\n",
       "    }\n",
       "</style>\n",
       "<table border=\"1\" class=\"dataframe\">\n",
       "  <thead>\n",
       "    <tr style=\"text-align: right;\">\n",
       "      <th></th>\n",
       "      <th>Rating</th>\n",
       "    </tr>\n",
       "  </thead>\n",
       "  <tbody>\n",
       "    <tr>\n",
       "      <th>count</th>\n",
       "      <td>9326.000000</td>\n",
       "    </tr>\n",
       "    <tr>\n",
       "      <th>mean</th>\n",
       "      <td>4.197727</td>\n",
       "    </tr>\n",
       "    <tr>\n",
       "      <th>std</th>\n",
       "      <td>0.508178</td>\n",
       "    </tr>\n",
       "    <tr>\n",
       "      <th>min</th>\n",
       "      <td>1.000000</td>\n",
       "    </tr>\n",
       "    <tr>\n",
       "      <th>25%</th>\n",
       "      <td>4.000000</td>\n",
       "    </tr>\n",
       "    <tr>\n",
       "      <th>50%</th>\n",
       "      <td>4.300000</td>\n",
       "    </tr>\n",
       "    <tr>\n",
       "      <th>75%</th>\n",
       "      <td>4.500000</td>\n",
       "    </tr>\n",
       "    <tr>\n",
       "      <th>max</th>\n",
       "      <td>5.000000</td>\n",
       "    </tr>\n",
       "  </tbody>\n",
       "</table>\n",
       "</div>"
      ],
      "text/plain": [
       "            Rating\n",
       "count  9326.000000\n",
       "mean      4.197727\n",
       "std       0.508178\n",
       "min       1.000000\n",
       "25%       4.000000\n",
       "50%       4.300000\n",
       "75%       4.500000\n",
       "max       5.000000"
      ]
     },
     "execution_count": 8,
     "metadata": {},
     "output_type": "execute_result"
    }
   ],
   "source": [
    "df.describe()"
   ]
  },
  {
   "cell_type": "code",
   "execution_count": 9,
   "id": "b9ab6a33-2aeb-49c2-a749-c7d0466171a0",
   "metadata": {},
   "outputs": [
    {
     "data": {
      "text/plain": [
       "4.197726785331332"
      ]
     },
     "execution_count": 9,
     "metadata": {},
     "output_type": "execute_result"
    }
   ],
   "source": [
    "df['Rating'].mean()"
   ]
  },
  {
   "cell_type": "code",
   "execution_count": 10,
   "id": "dbdc9275-93eb-4bd5-aa5a-69c108dc56ac",
   "metadata": {},
   "outputs": [],
   "source": [
    "df['Rating'].fillna(df['Rating'].mean(), inplace=True)"
   ]
  },
  {
   "cell_type": "code",
   "execution_count": 11,
   "id": "9aae4a9d-c7ff-4f5c-b0e7-3b6818e5e2c3",
   "metadata": {},
   "outputs": [],
   "source": [
    "df.dropna(inplace=True)"
   ]
  },
  {
   "cell_type": "code",
   "execution_count": 12,
   "id": "82411664-ec88-42dc-b060-a8b05af5b072",
   "metadata": {},
   "outputs": [
    {
     "name": "stdout",
     "output_type": "stream",
     "text": [
      "<class 'pandas.core.frame.DataFrame'>\n",
      "Index: 10829 entries, 0 to 10840\n",
      "Data columns (total 13 columns):\n",
      " #   Column          Non-Null Count  Dtype  \n",
      "---  ------          --------------  -----  \n",
      " 0   App             10829 non-null  object \n",
      " 1   Category        10829 non-null  object \n",
      " 2   Rating          10829 non-null  float64\n",
      " 3   Reviews         10829 non-null  object \n",
      " 4   Size            10829 non-null  object \n",
      " 5   Installs        10829 non-null  object \n",
      " 6   Type            10829 non-null  object \n",
      " 7   Price           10829 non-null  object \n",
      " 8   Content Rating  10829 non-null  object \n",
      " 9   Genres          10829 non-null  object \n",
      " 10  Last Updated    10829 non-null  object \n",
      " 11  Current Ver     10829 non-null  object \n",
      " 12  Android Ver     10829 non-null  object \n",
      "dtypes: float64(1), object(12)\n",
      "memory usage: 1.2+ MB\n"
     ]
    }
   ],
   "source": [
    "df.info()"
   ]
  },
  {
   "cell_type": "markdown",
   "id": "94b97f1c-b3b9-4842-8ef3-d61dd60aea34",
   "metadata": {},
   "source": [
    "### 3. Clean the column Reviews and make it numeric"
   ]
  },
  {
   "cell_type": "code",
   "execution_count": 13,
   "id": "125bb78c-059b-42ff-8f73-ce0fda5cf0dd",
   "metadata": {},
   "outputs": [],
   "source": [
    "df.loc[df['Reviews'].str.contains('M'), 'Reviews'] = (pd.to_numeric(\n",
    "    df.loc[df['Reviews'].str.contains('M'), 'Reviews'].str.replace('M', '')) * 1_000_000).astype('str')\n",
    "\n",
    "df['Reviews'] = pd.to_numeric(df['Reviews'])"
   ]
  },
  {
   "cell_type": "code",
   "execution_count": 14,
   "id": "938a0e66-ab72-4765-af51-6f31fd617864",
   "metadata": {},
   "outputs": [
    {
     "data": {
      "text/html": [
       "<div>\n",
       "<style scoped>\n",
       "    .dataframe tbody tr th:only-of-type {\n",
       "        vertical-align: middle;\n",
       "    }\n",
       "\n",
       "    .dataframe tbody tr th {\n",
       "        vertical-align: top;\n",
       "    }\n",
       "\n",
       "    .dataframe thead th {\n",
       "        text-align: right;\n",
       "    }\n",
       "</style>\n",
       "<table border=\"1\" class=\"dataframe\">\n",
       "  <thead>\n",
       "    <tr style=\"text-align: right;\">\n",
       "      <th></th>\n",
       "      <th>App</th>\n",
       "      <th>Category</th>\n",
       "      <th>Rating</th>\n",
       "      <th>Reviews</th>\n",
       "      <th>Size</th>\n",
       "      <th>Installs</th>\n",
       "      <th>Type</th>\n",
       "      <th>Price</th>\n",
       "      <th>Content Rating</th>\n",
       "      <th>Genres</th>\n",
       "      <th>Last Updated</th>\n",
       "      <th>Current Ver</th>\n",
       "      <th>Android Ver</th>\n",
       "    </tr>\n",
       "  </thead>\n",
       "  <tbody>\n",
       "    <tr>\n",
       "      <th>0</th>\n",
       "      <td>Photo Editor &amp; Candy Camera &amp; Grid &amp; ScrapBook</td>\n",
       "      <td>ART_AND_DESIGN</td>\n",
       "      <td>4.1</td>\n",
       "      <td>159.0</td>\n",
       "      <td>19M</td>\n",
       "      <td>10,000+</td>\n",
       "      <td>Free</td>\n",
       "      <td>Free</td>\n",
       "      <td>Everyone</td>\n",
       "      <td>Art &amp; Design</td>\n",
       "      <td>7-Jan-18</td>\n",
       "      <td>1.0.0</td>\n",
       "      <td>4.0.3 and up</td>\n",
       "    </tr>\n",
       "    <tr>\n",
       "      <th>1</th>\n",
       "      <td>Coloring book moana</td>\n",
       "      <td>ART_AND_DESIGN</td>\n",
       "      <td>3.9</td>\n",
       "      <td>967.0</td>\n",
       "      <td>14M</td>\n",
       "      <td>500,000+</td>\n",
       "      <td>Free</td>\n",
       "      <td>0</td>\n",
       "      <td>Everyone</td>\n",
       "      <td>Art &amp; Design;Pretend Play</td>\n",
       "      <td>15-Jan-18</td>\n",
       "      <td>2.0.0</td>\n",
       "      <td>4.0.3 and up</td>\n",
       "    </tr>\n",
       "    <tr>\n",
       "      <th>2</th>\n",
       "      <td>U Launcher Lite – FREE Live Cool Themes, Hide ...</td>\n",
       "      <td>ART_AND_DESIGN</td>\n",
       "      <td>4.7</td>\n",
       "      <td>87510.0</td>\n",
       "      <td>8.7M</td>\n",
       "      <td>5,000,000+</td>\n",
       "      <td>Free</td>\n",
       "      <td>0</td>\n",
       "      <td>Everyone</td>\n",
       "      <td>Art &amp; Design</td>\n",
       "      <td>1-Aug-18</td>\n",
       "      <td>1.2.4</td>\n",
       "      <td>4.0.3 and up</td>\n",
       "    </tr>\n",
       "    <tr>\n",
       "      <th>3</th>\n",
       "      <td>Sketch - Draw &amp; Paint</td>\n",
       "      <td>ART_AND_DESIGN</td>\n",
       "      <td>4.5</td>\n",
       "      <td>215644.0</td>\n",
       "      <td>25M</td>\n",
       "      <td>50,000,000+</td>\n",
       "      <td>Free</td>\n",
       "      <td>0</td>\n",
       "      <td>Teen</td>\n",
       "      <td>Art &amp; Design</td>\n",
       "      <td>8-Jun-18</td>\n",
       "      <td>Varies with device</td>\n",
       "      <td>4.2 and up</td>\n",
       "    </tr>\n",
       "    <tr>\n",
       "      <th>4</th>\n",
       "      <td>Pixel Draw - Number Art Coloring Book</td>\n",
       "      <td>ART_AND_DESIGN</td>\n",
       "      <td>4.3</td>\n",
       "      <td>967.0</td>\n",
       "      <td>2.8M</td>\n",
       "      <td>100,000+</td>\n",
       "      <td>Free</td>\n",
       "      <td>0</td>\n",
       "      <td>Everyone</td>\n",
       "      <td>Art &amp; Design;Creativity</td>\n",
       "      <td>20-Jun-18</td>\n",
       "      <td>1.1</td>\n",
       "      <td>4.4 and up</td>\n",
       "    </tr>\n",
       "  </tbody>\n",
       "</table>\n",
       "</div>"
      ],
      "text/plain": [
       "                                                 App        Category  Rating  \\\n",
       "0     Photo Editor & Candy Camera & Grid & ScrapBook  ART_AND_DESIGN     4.1   \n",
       "1                                Coloring book moana  ART_AND_DESIGN     3.9   \n",
       "2  U Launcher Lite – FREE Live Cool Themes, Hide ...  ART_AND_DESIGN     4.7   \n",
       "3                              Sketch - Draw & Paint  ART_AND_DESIGN     4.5   \n",
       "4              Pixel Draw - Number Art Coloring Book  ART_AND_DESIGN     4.3   \n",
       "\n",
       "    Reviews  Size     Installs  Type Price Content Rating  \\\n",
       "0     159.0   19M      10,000+  Free  Free       Everyone   \n",
       "1     967.0   14M     500,000+  Free     0       Everyone   \n",
       "2   87510.0  8.7M   5,000,000+  Free     0       Everyone   \n",
       "3  215644.0   25M  50,000,000+  Free     0           Teen   \n",
       "4     967.0  2.8M     100,000+  Free     0       Everyone   \n",
       "\n",
       "                      Genres Last Updated         Current Ver   Android Ver  \n",
       "0               Art & Design     7-Jan-18               1.0.0  4.0.3 and up  \n",
       "1  Art & Design;Pretend Play    15-Jan-18               2.0.0  4.0.3 and up  \n",
       "2               Art & Design     1-Aug-18               1.2.4  4.0.3 and up  \n",
       "3               Art & Design     8-Jun-18  Varies with device    4.2 and up  \n",
       "4    Art & Design;Creativity    20-Jun-18                 1.1    4.4 and up  "
      ]
     },
     "execution_count": 14,
     "metadata": {},
     "output_type": "execute_result"
    }
   ],
   "source": [
    "df.head()"
   ]
  },
  {
   "cell_type": "markdown",
   "id": "2f624a9b-4612-4b2e-a284-0a4b371aac98",
   "metadata": {},
   "source": [
    "### 4. How many duplicated apps are there?"
   ]
  },
  {
   "cell_type": "code",
   "execution_count": 15,
   "id": "554e343b-a224-4d87-9e6d-a5be13570e50",
   "metadata": {},
   "outputs": [
    {
     "data": {
      "text/plain": [
       "1979"
      ]
     },
     "execution_count": 15,
     "metadata": {},
     "output_type": "execute_result"
    }
   ],
   "source": [
    "df.duplicated(subset='App', keep=False).sum()"
   ]
  },
  {
   "cell_type": "markdown",
   "id": "041c1e32-9c4a-4916-9e7c-f2e95fc72d51",
   "metadata": {},
   "source": [
    "### 5. Drop duplicated apps keeping only the ones with the greatest number of reviews"
   ]
  },
  {
   "cell_type": "code",
   "execution_count": 16,
   "id": "8ac93519-5898-4242-8ff4-8d0782a60a28",
   "metadata": {},
   "outputs": [
    {
     "data": {
      "text/html": [
       "<div>\n",
       "<style scoped>\n",
       "    .dataframe tbody tr th:only-of-type {\n",
       "        vertical-align: middle;\n",
       "    }\n",
       "\n",
       "    .dataframe tbody tr th {\n",
       "        vertical-align: top;\n",
       "    }\n",
       "\n",
       "    .dataframe thead th {\n",
       "        text-align: right;\n",
       "    }\n",
       "</style>\n",
       "<table border=\"1\" class=\"dataframe\">\n",
       "  <thead>\n",
       "    <tr style=\"text-align: right;\">\n",
       "      <th></th>\n",
       "      <th>App</th>\n",
       "      <th>Category</th>\n",
       "      <th>Rating</th>\n",
       "      <th>Reviews</th>\n",
       "      <th>Size</th>\n",
       "      <th>Installs</th>\n",
       "      <th>Type</th>\n",
       "      <th>Price</th>\n",
       "      <th>Content Rating</th>\n",
       "      <th>Genres</th>\n",
       "      <th>Last Updated</th>\n",
       "      <th>Current Ver</th>\n",
       "      <th>Android Ver</th>\n",
       "    </tr>\n",
       "  </thead>\n",
       "  <tbody>\n",
       "    <tr>\n",
       "      <th>8884</th>\n",
       "      <td>\"i DT\" Fútbol. Todos Somos Técnicos.</td>\n",
       "      <td>SPORTS</td>\n",
       "      <td>4.197727</td>\n",
       "      <td>27.0</td>\n",
       "      <td>3.6M</td>\n",
       "      <td>500+</td>\n",
       "      <td>Free</td>\n",
       "      <td>0</td>\n",
       "      <td>Everyone</td>\n",
       "      <td>Sports</td>\n",
       "      <td>7-Oct-17</td>\n",
       "      <td>0.22</td>\n",
       "      <td>4.1 and up</td>\n",
       "    </tr>\n",
       "    <tr>\n",
       "      <th>324</th>\n",
       "      <td>#NAME?</td>\n",
       "      <td>COMICS</td>\n",
       "      <td>3.500000</td>\n",
       "      <td>115.0</td>\n",
       "      <td>9.1M</td>\n",
       "      <td>10,000+</td>\n",
       "      <td>Free</td>\n",
       "      <td>0</td>\n",
       "      <td>Mature 17+</td>\n",
       "      <td>Comics</td>\n",
       "      <td>13-Jul-18</td>\n",
       "      <td>5.0.12</td>\n",
       "      <td>5.0 and up</td>\n",
       "    </tr>\n",
       "    <tr>\n",
       "      <th>8532</th>\n",
       "      <td>+Download 4 Instagram Twitter</td>\n",
       "      <td>SOCIAL</td>\n",
       "      <td>4.500000</td>\n",
       "      <td>40467.0</td>\n",
       "      <td>22M</td>\n",
       "      <td>1,000,000+</td>\n",
       "      <td>Free</td>\n",
       "      <td>0</td>\n",
       "      <td>Everyone</td>\n",
       "      <td>Social</td>\n",
       "      <td>2-Aug-18</td>\n",
       "      <td>5.03</td>\n",
       "      <td>4.1 and up</td>\n",
       "    </tr>\n",
       "    <tr>\n",
       "      <th>4541</th>\n",
       "      <td>.R</td>\n",
       "      <td>TOOLS</td>\n",
       "      <td>4.500000</td>\n",
       "      <td>259.0</td>\n",
       "      <td>203k</td>\n",
       "      <td>10,000+</td>\n",
       "      <td>Free</td>\n",
       "      <td>0</td>\n",
       "      <td>Everyone</td>\n",
       "      <td>Tools</td>\n",
       "      <td>16-Sep-14</td>\n",
       "      <td>1.1.06</td>\n",
       "      <td>1.5 and up</td>\n",
       "    </tr>\n",
       "    <tr>\n",
       "      <th>4636</th>\n",
       "      <td>/u/app</td>\n",
       "      <td>COMMUNICATION</td>\n",
       "      <td>4.700000</td>\n",
       "      <td>573.0</td>\n",
       "      <td>53M</td>\n",
       "      <td>10,000+</td>\n",
       "      <td>Free</td>\n",
       "      <td>0</td>\n",
       "      <td>Mature 17+</td>\n",
       "      <td>Communication</td>\n",
       "      <td>3-Jul-18</td>\n",
       "      <td>4.2.4</td>\n",
       "      <td>4.1 and up</td>\n",
       "    </tr>\n",
       "    <tr>\n",
       "      <th>...</th>\n",
       "      <td>...</td>\n",
       "      <td>...</td>\n",
       "      <td>...</td>\n",
       "      <td>...</td>\n",
       "      <td>...</td>\n",
       "      <td>...</td>\n",
       "      <td>...</td>\n",
       "      <td>...</td>\n",
       "      <td>...</td>\n",
       "      <td>...</td>\n",
       "      <td>...</td>\n",
       "      <td>...</td>\n",
       "      <td>...</td>\n",
       "    </tr>\n",
       "    <tr>\n",
       "      <th>6334</th>\n",
       "      <td>뽕티비 - 개인방송, 인터넷방송, BJ방송</td>\n",
       "      <td>VIDEO_PLAYERS</td>\n",
       "      <td>4.197727</td>\n",
       "      <td>414.0</td>\n",
       "      <td>59M</td>\n",
       "      <td>100,000+</td>\n",
       "      <td>Free</td>\n",
       "      <td>0</td>\n",
       "      <td>Mature 17+</td>\n",
       "      <td>Video Players &amp; Editors</td>\n",
       "      <td>18-Jul-18</td>\n",
       "      <td>4.0.7</td>\n",
       "      <td>4.0.3 and up</td>\n",
       "    </tr>\n",
       "    <tr>\n",
       "      <th>4362</th>\n",
       "      <td>💎 I'm rich</td>\n",
       "      <td>LIFESTYLE</td>\n",
       "      <td>3.800000</td>\n",
       "      <td>718.0</td>\n",
       "      <td>26M</td>\n",
       "      <td>10,000+</td>\n",
       "      <td>Paid</td>\n",
       "      <td>$399.99</td>\n",
       "      <td>Everyone</td>\n",
       "      <td>Lifestyle</td>\n",
       "      <td>11-Mar-18</td>\n",
       "      <td>1.0.0</td>\n",
       "      <td>4.4 and up</td>\n",
       "    </tr>\n",
       "    <tr>\n",
       "      <th>2575</th>\n",
       "      <td>💘 WhatsLov: Smileys of love, stickers and GIF</td>\n",
       "      <td>SOCIAL</td>\n",
       "      <td>4.600000</td>\n",
       "      <td>22098.0</td>\n",
       "      <td>18M</td>\n",
       "      <td>1,000,000+</td>\n",
       "      <td>Free</td>\n",
       "      <td>0</td>\n",
       "      <td>Everyone</td>\n",
       "      <td>Social</td>\n",
       "      <td>24-Jul-18</td>\n",
       "      <td>4.2.4</td>\n",
       "      <td>4.0.3 and up</td>\n",
       "    </tr>\n",
       "    <tr>\n",
       "      <th>7559</th>\n",
       "      <td>📏 Smart Ruler ↔️ cm/inch measuring for homework!</td>\n",
       "      <td>TOOLS</td>\n",
       "      <td>4.000000</td>\n",
       "      <td>19.0</td>\n",
       "      <td>3.2M</td>\n",
       "      <td>10,000+</td>\n",
       "      <td>Free</td>\n",
       "      <td>0</td>\n",
       "      <td>Everyone</td>\n",
       "      <td>Tools</td>\n",
       "      <td>21-Oct-17</td>\n",
       "      <td>1</td>\n",
       "      <td>4.2 and up</td>\n",
       "    </tr>\n",
       "    <tr>\n",
       "      <th>882</th>\n",
       "      <td>🔥 Football Wallpapers 4K | Full HD Backgrounds 😍</td>\n",
       "      <td>ENTERTAINMENT</td>\n",
       "      <td>4.700000</td>\n",
       "      <td>11661.0</td>\n",
       "      <td>4.0M</td>\n",
       "      <td>1,000,000+</td>\n",
       "      <td>Free</td>\n",
       "      <td>0</td>\n",
       "      <td>Everyone</td>\n",
       "      <td>Entertainment</td>\n",
       "      <td>14-Jul-18</td>\n",
       "      <td>1.1.3.2</td>\n",
       "      <td>4.0.3 and up</td>\n",
       "    </tr>\n",
       "  </tbody>\n",
       "</table>\n",
       "<p>9648 rows × 13 columns</p>\n",
       "</div>"
      ],
      "text/plain": [
       "                                                   App       Category  \\\n",
       "8884              \"i DT\" Fútbol. Todos Somos Técnicos.         SPORTS   \n",
       "324                                             #NAME?         COMICS   \n",
       "8532                     +Download 4 Instagram Twitter         SOCIAL   \n",
       "4541                                                .R          TOOLS   \n",
       "4636                                            /u/app  COMMUNICATION   \n",
       "...                                                ...            ...   \n",
       "6334                           뽕티비 - 개인방송, 인터넷방송, BJ방송  VIDEO_PLAYERS   \n",
       "4362                                        💎 I'm rich      LIFESTYLE   \n",
       "2575     💘 WhatsLov: Smileys of love, stickers and GIF         SOCIAL   \n",
       "7559  📏 Smart Ruler ↔️ cm/inch measuring for homework!          TOOLS   \n",
       "882   🔥 Football Wallpapers 4K | Full HD Backgrounds 😍  ENTERTAINMENT   \n",
       "\n",
       "        Rating  Reviews  Size    Installs  Type     Price Content Rating  \\\n",
       "8884  4.197727     27.0  3.6M        500+  Free         0       Everyone   \n",
       "324   3.500000    115.0  9.1M     10,000+  Free         0     Mature 17+   \n",
       "8532  4.500000  40467.0   22M  1,000,000+  Free         0       Everyone   \n",
       "4541  4.500000    259.0  203k     10,000+  Free         0       Everyone   \n",
       "4636  4.700000    573.0   53M     10,000+  Free         0     Mature 17+   \n",
       "...        ...      ...   ...         ...   ...       ...            ...   \n",
       "6334  4.197727    414.0   59M    100,000+  Free         0     Mature 17+   \n",
       "4362  3.800000    718.0   26M     10,000+  Paid  $399.99        Everyone   \n",
       "2575  4.600000  22098.0   18M  1,000,000+  Free         0       Everyone   \n",
       "7559  4.000000     19.0  3.2M     10,000+  Free         0       Everyone   \n",
       "882   4.700000  11661.0  4.0M  1,000,000+  Free         0       Everyone   \n",
       "\n",
       "                       Genres Last Updated Current Ver   Android Ver  \n",
       "8884                   Sports     7-Oct-17        0.22    4.1 and up  \n",
       "324                    Comics    13-Jul-18      5.0.12    5.0 and up  \n",
       "8532                   Social     2-Aug-18        5.03    4.1 and up  \n",
       "4541                    Tools    16-Sep-14      1.1.06    1.5 and up  \n",
       "4636            Communication     3-Jul-18       4.2.4    4.1 and up  \n",
       "...                       ...          ...         ...           ...  \n",
       "6334  Video Players & Editors    18-Jul-18       4.0.7  4.0.3 and up  \n",
       "4362                Lifestyle    11-Mar-18       1.0.0    4.4 and up  \n",
       "2575                   Social    24-Jul-18       4.2.4  4.0.3 and up  \n",
       "7559                    Tools    21-Oct-17           1    4.2 and up  \n",
       "882             Entertainment    14-Jul-18     1.1.3.2  4.0.3 and up  \n",
       "\n",
       "[9648 rows x 13 columns]"
      ]
     },
     "execution_count": 16,
     "metadata": {},
     "output_type": "execute_result"
    }
   ],
   "source": [
    "df=df.sort_values(by=['App','Reviews'])\n",
    "df.drop_duplicates(subset='App',keep='last',inplace=True)\n",
    "df"
   ]
  },
  {
   "cell_type": "markdown",
   "id": "3b7e9f0e-13fa-4aca-9e57-e124bcac38b2",
   "metadata": {},
   "source": [
    "### 6. Format the Category column"
   ]
  },
  {
   "cell_type": "code",
   "execution_count": 17,
   "id": "46386995-13a6-43f8-96cf-d0317768414e",
   "metadata": {},
   "outputs": [
    {
     "data": {
      "text/plain": [
       "array(['SPORTS', 'COMICS', 'SOCIAL', 'TOOLS', 'COMMUNICATION',\n",
       "       'NEWS_AND_MAGAZINES', 'HEALTH_AND_FITNESS', 'FAMILY',\n",
       "       'BOOKS_AND_REFERENCE', 'LIFESTYLE', 'BUSINESS', 'SHOPPING',\n",
       "       'MEDICAL', 'GAME', 'FINANCE', 'PERSONALIZATION', 'PHOTOGRAPHY',\n",
       "       'TRAVEL_AND_LOCAL', 'DATING', 'PRODUCTIVITY', 'ART_AND_DESIGN',\n",
       "       'FOOD_AND_DRINK', 'VIDEO_PLAYERS', 'HOUSE_AND_HOME',\n",
       "       'MAPS_AND_NAVIGATION', 'EVENTS', 'EDUCATION', 'AUTO_AND_VEHICLES',\n",
       "       'WEATHER', 'BEAUTY', 'ENTERTAINMENT', 'LIBRARIES_AND_DEMO',\n",
       "       'PARENTING'], dtype=object)"
      ]
     },
     "execution_count": 17,
     "metadata": {},
     "output_type": "execute_result"
    }
   ],
   "source": [
    "df['Category'].unique()"
   ]
  },
  {
   "cell_type": "code",
   "execution_count": 18,
   "id": "0d84bfdc-343d-462c-916f-848fe4047d6c",
   "metadata": {},
   "outputs": [
    {
     "data": {
      "text/plain": [
       "array(['Sports', 'Comics', 'Social', 'Tools', 'Communication',\n",
       "       'News and magazines', 'Health and fitness', 'Family',\n",
       "       'Books and reference', 'Lifestyle', 'Business', 'Shopping',\n",
       "       'Medical', 'Game', 'Finance', 'Personalization', 'Photography',\n",
       "       'Travel and local', 'Dating', 'Productivity', 'Art and design',\n",
       "       'Food and drink', 'Video players', 'House and home',\n",
       "       'Maps and navigation', 'Events', 'Education', 'Auto and vehicles',\n",
       "       'Weather', 'Beauty', 'Entertainment', 'Libraries and demo',\n",
       "       'Parenting'], dtype=object)"
      ]
     },
     "execution_count": 18,
     "metadata": {},
     "output_type": "execute_result"
    }
   ],
   "source": [
    "df['Category']=df['Category'].str.replace('_',' ').str.capitalize()\n",
    "df['Category'].unique()"
   ]
  },
  {
   "cell_type": "markdown",
   "id": "2e15a268-20db-4234-a300-49d5b12e3337",
   "metadata": {},
   "source": [
    "### 7. Clean and convert the Installs column to numeric type"
   ]
  },
  {
   "cell_type": "code",
   "execution_count": 19,
   "id": "fa0dac93-07f3-4738-8109-a0941913bdaa",
   "metadata": {},
   "outputs": [],
   "source": [
    "df['Installs']=pd.to_numeric(df['Installs'].str.replace('+','').str.replace(',',''))"
   ]
  },
  {
   "cell_type": "code",
   "execution_count": 20,
   "id": "a4d90f3d-5b81-4bb7-83da-5901c2b9d25c",
   "metadata": {},
   "outputs": [
    {
     "data": {
      "text/plain": [
       "8884        500\n",
       "324       10000\n",
       "8532    1000000\n",
       "4541      10000\n",
       "4636      10000\n",
       "         ...   \n",
       "6334     100000\n",
       "4362      10000\n",
       "2575    1000000\n",
       "7559      10000\n",
       "882     1000000\n",
       "Name: Installs, Length: 9648, dtype: int64"
      ]
     },
     "execution_count": 20,
     "metadata": {},
     "output_type": "execute_result"
    }
   ],
   "source": [
    "df['Installs']"
   ]
  },
  {
   "cell_type": "markdown",
   "id": "59d4f812-0448-49dd-aaac-ef5fe5a3eda0",
   "metadata": {},
   "source": [
    "### 8. Clean and convert the Size column to numeric (representing bytes)"
   ]
  },
  {
   "cell_type": "code",
   "execution_count": 21,
   "id": "609b575b-533a-485a-8f6c-0e8152e94ca8",
   "metadata": {},
   "outputs": [
    {
     "data": {
      "text/plain": [
       "8884    3.6M\n",
       "324     9.1M\n",
       "8532     22M\n",
       "4541    203k\n",
       "4636     53M\n",
       "Name: Size, dtype: object"
      ]
     },
     "execution_count": 21,
     "metadata": {},
     "output_type": "execute_result"
    }
   ],
   "source": [
    "df['Size'].head()"
   ]
  },
  {
   "cell_type": "code",
   "execution_count": 22,
   "id": "6fd71d80-cd52-4e9e-9b58-f9adc1f78138",
   "metadata": {},
   "outputs": [],
   "source": [
    "df['Size'] = df['Size'].replace('Varies with device', \"0\").astype(str)\n",
    "\n",
    "df.loc[df['Size'].str.contains('M'), 'Size'] = (pd.to_numeric(\n",
    "    df.loc[df['Size'].str.contains('M'), 'Size'].str.replace('M', '')\n",
    ") * (1024 * 1024)).astype(str)\n",
    "\n",
    "df.loc[df['Size'].str.contains('k'), 'Size'] =  (pd.to_numeric(\n",
    "    df.loc[df['Size'].str.contains('k'), 'Size'].str.replace('k', '')\n",
    ") * 1024).astype(str)\n",
    "\n",
    "df['Size'] = pd.to_numeric(df['Size'])"
   ]
  },
  {
   "cell_type": "code",
   "execution_count": 23,
   "id": "ec53e9d4-ccb9-4cb7-9eb0-08921a5668c8",
   "metadata": {},
   "outputs": [
    {
     "data": {
      "text/plain": [
       "8884     3774873.6\n",
       "324      9542041.6\n",
       "8532    23068672.0\n",
       "4541      207872.0\n",
       "4636    55574528.0\n",
       "           ...    \n",
       "6334    61865984.0\n",
       "4362    27262976.0\n",
       "2575    18874368.0\n",
       "7559     3355443.2\n",
       "882      4194304.0\n",
       "Name: Size, Length: 9648, dtype: float64"
      ]
     },
     "execution_count": 23,
     "metadata": {},
     "output_type": "execute_result"
    }
   ],
   "source": [
    "df['Size']"
   ]
  },
  {
   "cell_type": "markdown",
   "id": "9c3e8271-b5e5-4bf4-8d40-373bd4e7414d",
   "metadata": {},
   "source": [
    "### 9.Clean and convert the Price column to numeric"
   ]
  },
  {
   "cell_type": "code",
   "execution_count": 24,
   "id": "3a906f31-9ce2-4668-b171-fd66d40eb35f",
   "metadata": {},
   "outputs": [],
   "source": [
    "df['Price']=pd.to_numeric(df['Price'].str.replace('$','').str.replace('Free','0'))"
   ]
  },
  {
   "cell_type": "code",
   "execution_count": 25,
   "id": "8bc773b5-612b-4530-9bc7-ba71abe8238c",
   "metadata": {},
   "outputs": [
    {
     "data": {
      "text/html": [
       "<div>\n",
       "<style scoped>\n",
       "    .dataframe tbody tr th:only-of-type {\n",
       "        vertical-align: middle;\n",
       "    }\n",
       "\n",
       "    .dataframe tbody tr th {\n",
       "        vertical-align: top;\n",
       "    }\n",
       "\n",
       "    .dataframe thead th {\n",
       "        text-align: right;\n",
       "    }\n",
       "</style>\n",
       "<table border=\"1\" class=\"dataframe\">\n",
       "  <thead>\n",
       "    <tr style=\"text-align: right;\">\n",
       "      <th></th>\n",
       "      <th>App</th>\n",
       "      <th>Category</th>\n",
       "      <th>Rating</th>\n",
       "      <th>Reviews</th>\n",
       "      <th>Size</th>\n",
       "      <th>Installs</th>\n",
       "      <th>Type</th>\n",
       "      <th>Price</th>\n",
       "      <th>Content Rating</th>\n",
       "      <th>Genres</th>\n",
       "      <th>Last Updated</th>\n",
       "      <th>Current Ver</th>\n",
       "      <th>Android Ver</th>\n",
       "    </tr>\n",
       "  </thead>\n",
       "  <tbody>\n",
       "    <tr>\n",
       "      <th>8884</th>\n",
       "      <td>\"i DT\" Fútbol. Todos Somos Técnicos.</td>\n",
       "      <td>Sports</td>\n",
       "      <td>4.197727</td>\n",
       "      <td>27.0</td>\n",
       "      <td>3774873.6</td>\n",
       "      <td>500</td>\n",
       "      <td>Free</td>\n",
       "      <td>0.0</td>\n",
       "      <td>Everyone</td>\n",
       "      <td>Sports</td>\n",
       "      <td>7-Oct-17</td>\n",
       "      <td>0.22</td>\n",
       "      <td>4.1 and up</td>\n",
       "    </tr>\n",
       "    <tr>\n",
       "      <th>324</th>\n",
       "      <td>#NAME?</td>\n",
       "      <td>Comics</td>\n",
       "      <td>3.500000</td>\n",
       "      <td>115.0</td>\n",
       "      <td>9542041.6</td>\n",
       "      <td>10000</td>\n",
       "      <td>Free</td>\n",
       "      <td>0.0</td>\n",
       "      <td>Mature 17+</td>\n",
       "      <td>Comics</td>\n",
       "      <td>13-Jul-18</td>\n",
       "      <td>5.0.12</td>\n",
       "      <td>5.0 and up</td>\n",
       "    </tr>\n",
       "    <tr>\n",
       "      <th>8532</th>\n",
       "      <td>+Download 4 Instagram Twitter</td>\n",
       "      <td>Social</td>\n",
       "      <td>4.500000</td>\n",
       "      <td>40467.0</td>\n",
       "      <td>23068672.0</td>\n",
       "      <td>1000000</td>\n",
       "      <td>Free</td>\n",
       "      <td>0.0</td>\n",
       "      <td>Everyone</td>\n",
       "      <td>Social</td>\n",
       "      <td>2-Aug-18</td>\n",
       "      <td>5.03</td>\n",
       "      <td>4.1 and up</td>\n",
       "    </tr>\n",
       "    <tr>\n",
       "      <th>4541</th>\n",
       "      <td>.R</td>\n",
       "      <td>Tools</td>\n",
       "      <td>4.500000</td>\n",
       "      <td>259.0</td>\n",
       "      <td>207872.0</td>\n",
       "      <td>10000</td>\n",
       "      <td>Free</td>\n",
       "      <td>0.0</td>\n",
       "      <td>Everyone</td>\n",
       "      <td>Tools</td>\n",
       "      <td>16-Sep-14</td>\n",
       "      <td>1.1.06</td>\n",
       "      <td>1.5 and up</td>\n",
       "    </tr>\n",
       "    <tr>\n",
       "      <th>4636</th>\n",
       "      <td>/u/app</td>\n",
       "      <td>Communication</td>\n",
       "      <td>4.700000</td>\n",
       "      <td>573.0</td>\n",
       "      <td>55574528.0</td>\n",
       "      <td>10000</td>\n",
       "      <td>Free</td>\n",
       "      <td>0.0</td>\n",
       "      <td>Mature 17+</td>\n",
       "      <td>Communication</td>\n",
       "      <td>3-Jul-18</td>\n",
       "      <td>4.2.4</td>\n",
       "      <td>4.1 and up</td>\n",
       "    </tr>\n",
       "  </tbody>\n",
       "</table>\n",
       "</div>"
      ],
      "text/plain": [
       "                                       App       Category    Rating  Reviews  \\\n",
       "8884  \"i DT\" Fútbol. Todos Somos Técnicos.         Sports  4.197727     27.0   \n",
       "324                                 #NAME?         Comics  3.500000    115.0   \n",
       "8532         +Download 4 Instagram Twitter         Social  4.500000  40467.0   \n",
       "4541                                    .R          Tools  4.500000    259.0   \n",
       "4636                                /u/app  Communication  4.700000    573.0   \n",
       "\n",
       "            Size  Installs  Type  Price Content Rating         Genres  \\\n",
       "8884   3774873.6       500  Free    0.0       Everyone         Sports   \n",
       "324    9542041.6     10000  Free    0.0     Mature 17+         Comics   \n",
       "8532  23068672.0   1000000  Free    0.0       Everyone         Social   \n",
       "4541    207872.0     10000  Free    0.0       Everyone          Tools   \n",
       "4636  55574528.0     10000  Free    0.0     Mature 17+  Communication   \n",
       "\n",
       "     Last Updated Current Ver Android Ver  \n",
       "8884     7-Oct-17        0.22  4.1 and up  \n",
       "324     13-Jul-18      5.0.12  5.0 and up  \n",
       "8532     2-Aug-18        5.03  4.1 and up  \n",
       "4541    16-Sep-14      1.1.06  1.5 and up  \n",
       "4636     3-Jul-18       4.2.4  4.1 and up  "
      ]
     },
     "execution_count": 25,
     "metadata": {},
     "output_type": "execute_result"
    }
   ],
   "source": [
    "df.head()"
   ]
  },
  {
   "cell_type": "markdown",
   "id": "74acd309-0e58-4c13-92ae-2fd8a25b3512",
   "metadata": {},
   "source": [
    "## 10. Paid or Free??"
   ]
  },
  {
   "cell_type": "code",
   "execution_count": 26,
   "id": "c9b39b3f-3ed3-4068-a7ce-79ab026b063c",
   "metadata": {},
   "outputs": [
    {
     "data": {
      "text/html": [
       "<div>\n",
       "<style scoped>\n",
       "    .dataframe tbody tr th:only-of-type {\n",
       "        vertical-align: middle;\n",
       "    }\n",
       "\n",
       "    .dataframe tbody tr th {\n",
       "        vertical-align: top;\n",
       "    }\n",
       "\n",
       "    .dataframe thead th {\n",
       "        text-align: right;\n",
       "    }\n",
       "</style>\n",
       "<table border=\"1\" class=\"dataframe\">\n",
       "  <thead>\n",
       "    <tr style=\"text-align: right;\">\n",
       "      <th></th>\n",
       "      <th>App</th>\n",
       "      <th>Category</th>\n",
       "      <th>Rating</th>\n",
       "      <th>Reviews</th>\n",
       "      <th>Size</th>\n",
       "      <th>Installs</th>\n",
       "      <th>Type</th>\n",
       "      <th>Price</th>\n",
       "      <th>Content Rating</th>\n",
       "      <th>Genres</th>\n",
       "      <th>Last Updated</th>\n",
       "      <th>Current Ver</th>\n",
       "      <th>Android Ver</th>\n",
       "      <th>Distribution</th>\n",
       "    </tr>\n",
       "  </thead>\n",
       "  <tbody>\n",
       "    <tr>\n",
       "      <th>8884</th>\n",
       "      <td>\"i DT\" Fútbol. Todos Somos Técnicos.</td>\n",
       "      <td>Sports</td>\n",
       "      <td>4.197727</td>\n",
       "      <td>27.0</td>\n",
       "      <td>3774873.6</td>\n",
       "      <td>500</td>\n",
       "      <td>Free</td>\n",
       "      <td>0.00</td>\n",
       "      <td>Everyone</td>\n",
       "      <td>Sports</td>\n",
       "      <td>7-Oct-17</td>\n",
       "      <td>0.22</td>\n",
       "      <td>4.1 and up</td>\n",
       "      <td>Free</td>\n",
       "    </tr>\n",
       "    <tr>\n",
       "      <th>324</th>\n",
       "      <td>#NAME?</td>\n",
       "      <td>Comics</td>\n",
       "      <td>3.500000</td>\n",
       "      <td>115.0</td>\n",
       "      <td>9542041.6</td>\n",
       "      <td>10000</td>\n",
       "      <td>Free</td>\n",
       "      <td>0.00</td>\n",
       "      <td>Mature 17+</td>\n",
       "      <td>Comics</td>\n",
       "      <td>13-Jul-18</td>\n",
       "      <td>5.0.12</td>\n",
       "      <td>5.0 and up</td>\n",
       "      <td>Free</td>\n",
       "    </tr>\n",
       "    <tr>\n",
       "      <th>8532</th>\n",
       "      <td>+Download 4 Instagram Twitter</td>\n",
       "      <td>Social</td>\n",
       "      <td>4.500000</td>\n",
       "      <td>40467.0</td>\n",
       "      <td>23068672.0</td>\n",
       "      <td>1000000</td>\n",
       "      <td>Free</td>\n",
       "      <td>0.00</td>\n",
       "      <td>Everyone</td>\n",
       "      <td>Social</td>\n",
       "      <td>2-Aug-18</td>\n",
       "      <td>5.03</td>\n",
       "      <td>4.1 and up</td>\n",
       "      <td>Free</td>\n",
       "    </tr>\n",
       "    <tr>\n",
       "      <th>4541</th>\n",
       "      <td>.R</td>\n",
       "      <td>Tools</td>\n",
       "      <td>4.500000</td>\n",
       "      <td>259.0</td>\n",
       "      <td>207872.0</td>\n",
       "      <td>10000</td>\n",
       "      <td>Free</td>\n",
       "      <td>0.00</td>\n",
       "      <td>Everyone</td>\n",
       "      <td>Tools</td>\n",
       "      <td>16-Sep-14</td>\n",
       "      <td>1.1.06</td>\n",
       "      <td>1.5 and up</td>\n",
       "      <td>Free</td>\n",
       "    </tr>\n",
       "    <tr>\n",
       "      <th>4636</th>\n",
       "      <td>/u/app</td>\n",
       "      <td>Communication</td>\n",
       "      <td>4.700000</td>\n",
       "      <td>573.0</td>\n",
       "      <td>55574528.0</td>\n",
       "      <td>10000</td>\n",
       "      <td>Free</td>\n",
       "      <td>0.00</td>\n",
       "      <td>Mature 17+</td>\n",
       "      <td>Communication</td>\n",
       "      <td>3-Jul-18</td>\n",
       "      <td>4.2.4</td>\n",
       "      <td>4.1 and up</td>\n",
       "      <td>Free</td>\n",
       "    </tr>\n",
       "    <tr>\n",
       "      <th>...</th>\n",
       "      <td>...</td>\n",
       "      <td>...</td>\n",
       "      <td>...</td>\n",
       "      <td>...</td>\n",
       "      <td>...</td>\n",
       "      <td>...</td>\n",
       "      <td>...</td>\n",
       "      <td>...</td>\n",
       "      <td>...</td>\n",
       "      <td>...</td>\n",
       "      <td>...</td>\n",
       "      <td>...</td>\n",
       "      <td>...</td>\n",
       "      <td>...</td>\n",
       "    </tr>\n",
       "    <tr>\n",
       "      <th>6334</th>\n",
       "      <td>뽕티비 - 개인방송, 인터넷방송, BJ방송</td>\n",
       "      <td>Video players</td>\n",
       "      <td>4.197727</td>\n",
       "      <td>414.0</td>\n",
       "      <td>61865984.0</td>\n",
       "      <td>100000</td>\n",
       "      <td>Free</td>\n",
       "      <td>0.00</td>\n",
       "      <td>Mature 17+</td>\n",
       "      <td>Video Players &amp; Editors</td>\n",
       "      <td>18-Jul-18</td>\n",
       "      <td>4.0.7</td>\n",
       "      <td>4.0.3 and up</td>\n",
       "      <td>Free</td>\n",
       "    </tr>\n",
       "    <tr>\n",
       "      <th>4362</th>\n",
       "      <td>💎 I'm rich</td>\n",
       "      <td>Lifestyle</td>\n",
       "      <td>3.800000</td>\n",
       "      <td>718.0</td>\n",
       "      <td>27262976.0</td>\n",
       "      <td>10000</td>\n",
       "      <td>Paid</td>\n",
       "      <td>399.99</td>\n",
       "      <td>Everyone</td>\n",
       "      <td>Lifestyle</td>\n",
       "      <td>11-Mar-18</td>\n",
       "      <td>1.0.0</td>\n",
       "      <td>4.4 and up</td>\n",
       "      <td>Paid</td>\n",
       "    </tr>\n",
       "    <tr>\n",
       "      <th>2575</th>\n",
       "      <td>💘 WhatsLov: Smileys of love, stickers and GIF</td>\n",
       "      <td>Social</td>\n",
       "      <td>4.600000</td>\n",
       "      <td>22098.0</td>\n",
       "      <td>18874368.0</td>\n",
       "      <td>1000000</td>\n",
       "      <td>Free</td>\n",
       "      <td>0.00</td>\n",
       "      <td>Everyone</td>\n",
       "      <td>Social</td>\n",
       "      <td>24-Jul-18</td>\n",
       "      <td>4.2.4</td>\n",
       "      <td>4.0.3 and up</td>\n",
       "      <td>Free</td>\n",
       "    </tr>\n",
       "    <tr>\n",
       "      <th>7559</th>\n",
       "      <td>📏 Smart Ruler ↔️ cm/inch measuring for homework!</td>\n",
       "      <td>Tools</td>\n",
       "      <td>4.000000</td>\n",
       "      <td>19.0</td>\n",
       "      <td>3355443.2</td>\n",
       "      <td>10000</td>\n",
       "      <td>Free</td>\n",
       "      <td>0.00</td>\n",
       "      <td>Everyone</td>\n",
       "      <td>Tools</td>\n",
       "      <td>21-Oct-17</td>\n",
       "      <td>1</td>\n",
       "      <td>4.2 and up</td>\n",
       "      <td>Free</td>\n",
       "    </tr>\n",
       "    <tr>\n",
       "      <th>882</th>\n",
       "      <td>🔥 Football Wallpapers 4K | Full HD Backgrounds 😍</td>\n",
       "      <td>Entertainment</td>\n",
       "      <td>4.700000</td>\n",
       "      <td>11661.0</td>\n",
       "      <td>4194304.0</td>\n",
       "      <td>1000000</td>\n",
       "      <td>Free</td>\n",
       "      <td>0.00</td>\n",
       "      <td>Everyone</td>\n",
       "      <td>Entertainment</td>\n",
       "      <td>14-Jul-18</td>\n",
       "      <td>1.1.3.2</td>\n",
       "      <td>4.0.3 and up</td>\n",
       "      <td>Free</td>\n",
       "    </tr>\n",
       "  </tbody>\n",
       "</table>\n",
       "<p>9648 rows × 14 columns</p>\n",
       "</div>"
      ],
      "text/plain": [
       "                                                   App       Category  \\\n",
       "8884              \"i DT\" Fútbol. Todos Somos Técnicos.         Sports   \n",
       "324                                             #NAME?         Comics   \n",
       "8532                     +Download 4 Instagram Twitter         Social   \n",
       "4541                                                .R          Tools   \n",
       "4636                                            /u/app  Communication   \n",
       "...                                                ...            ...   \n",
       "6334                           뽕티비 - 개인방송, 인터넷방송, BJ방송  Video players   \n",
       "4362                                        💎 I'm rich      Lifestyle   \n",
       "2575     💘 WhatsLov: Smileys of love, stickers and GIF         Social   \n",
       "7559  📏 Smart Ruler ↔️ cm/inch measuring for homework!          Tools   \n",
       "882   🔥 Football Wallpapers 4K | Full HD Backgrounds 😍  Entertainment   \n",
       "\n",
       "        Rating  Reviews        Size  Installs  Type   Price Content Rating  \\\n",
       "8884  4.197727     27.0   3774873.6       500  Free    0.00       Everyone   \n",
       "324   3.500000    115.0   9542041.6     10000  Free    0.00     Mature 17+   \n",
       "8532  4.500000  40467.0  23068672.0   1000000  Free    0.00       Everyone   \n",
       "4541  4.500000    259.0    207872.0     10000  Free    0.00       Everyone   \n",
       "4636  4.700000    573.0  55574528.0     10000  Free    0.00     Mature 17+   \n",
       "...        ...      ...         ...       ...   ...     ...            ...   \n",
       "6334  4.197727    414.0  61865984.0    100000  Free    0.00     Mature 17+   \n",
       "4362  3.800000    718.0  27262976.0     10000  Paid  399.99       Everyone   \n",
       "2575  4.600000  22098.0  18874368.0   1000000  Free    0.00       Everyone   \n",
       "7559  4.000000     19.0   3355443.2     10000  Free    0.00       Everyone   \n",
       "882   4.700000  11661.0   4194304.0   1000000  Free    0.00       Everyone   \n",
       "\n",
       "                       Genres Last Updated Current Ver   Android Ver  \\\n",
       "8884                   Sports     7-Oct-17        0.22    4.1 and up   \n",
       "324                    Comics    13-Jul-18      5.0.12    5.0 and up   \n",
       "8532                   Social     2-Aug-18        5.03    4.1 and up   \n",
       "4541                    Tools    16-Sep-14      1.1.06    1.5 and up   \n",
       "4636            Communication     3-Jul-18       4.2.4    4.1 and up   \n",
       "...                       ...          ...         ...           ...   \n",
       "6334  Video Players & Editors    18-Jul-18       4.0.7  4.0.3 and up   \n",
       "4362                Lifestyle    11-Mar-18       1.0.0    4.4 and up   \n",
       "2575                   Social    24-Jul-18       4.2.4  4.0.3 and up   \n",
       "7559                    Tools    21-Oct-17           1    4.2 and up   \n",
       "882             Entertainment    14-Jul-18     1.1.3.2  4.0.3 and up   \n",
       "\n",
       "     Distribution  \n",
       "8884         Free  \n",
       "324          Free  \n",
       "8532         Free  \n",
       "4541         Free  \n",
       "4636         Free  \n",
       "...           ...  \n",
       "6334         Free  \n",
       "4362         Paid  \n",
       "2575         Free  \n",
       "7559         Free  \n",
       "882          Free  \n",
       "\n",
       "[9648 rows x 14 columns]"
      ]
     },
     "execution_count": 26,
     "metadata": {},
     "output_type": "execute_result"
    }
   ],
   "source": [
    "df['Distribution']='Free'\n",
    "df.loc[df ['Price']>0, 'Distribution']='Paid'\n",
    "df"
   ]
  },
  {
   "cell_type": "markdown",
   "id": "00ccc425-4d03-42b3-97c8-917fb7005c06",
   "metadata": {},
   "source": [
    "## Analysis"
   ]
  },
  {
   "cell_type": "markdown",
   "id": "bf555985-a5cc-4fab-b27a-d5a1cf137db1",
   "metadata": {},
   "source": [
    "### 11. Which app has the most reviews?"
   ]
  },
  {
   "cell_type": "code",
   "execution_count": 27,
   "id": "f4a1c2c0-67e2-49c0-8ad3-03d09a55a2b2",
   "metadata": {},
   "outputs": [
    {
     "data": {
      "text/plain": [
       "78158306.0"
      ]
     },
     "execution_count": 27,
     "metadata": {},
     "output_type": "execute_result"
    }
   ],
   "source": [
    "df['Reviews'].max()"
   ]
  },
  {
   "cell_type": "code",
   "execution_count": 31,
   "id": "2c873a3a-29b7-4df5-b97d-ca3e41c95da5",
   "metadata": {},
   "outputs": [
    {
     "data": {
      "text/plain": [
       "2544    Facebook\n",
       "Name: App, dtype: object"
      ]
     },
     "execution_count": 31,
     "metadata": {},
     "output_type": "execute_result"
    }
   ],
   "source": [
    "df.loc[df['Reviews']==78158306.0, 'App']"
   ]
  },
  {
   "cell_type": "markdown",
   "id": "f00411d2-2d8d-40a1-ad2a-12b5de3d08bc",
   "metadata": {},
   "source": [
    "### 12. What category has the highest number of apps uploaded to the store?"
   ]
  },
  {
   "cell_type": "code",
   "execution_count": 29,
   "id": "edc17a5c-b7ca-49f8-9168-740571c8b228",
   "metadata": {},
   "outputs": [
    {
     "data": {
      "text/plain": [
       "Category\n",
       "Family      1874\n",
       "Game         945\n",
       "Tools        827\n",
       "Business     420\n",
       "Medical      395\n",
       "Name: count, dtype: int64"
      ]
     },
     "execution_count": 29,
     "metadata": {},
     "output_type": "execute_result"
    }
   ],
   "source": [
    "df['Category'].value_counts().head()"
   ]
  },
  {
   "cell_type": "markdown",
   "id": "972b013a-8521-4bff-b85a-5f4cd6226ee2",
   "metadata": {},
   "source": [
    "### 13. To which category belongs the most expensive app?"
   ]
  },
  {
   "cell_type": "code",
   "execution_count": 30,
   "id": "9e3f58e3-2568-476f-9c57-56713db3b702",
   "metadata": {},
   "outputs": [
    {
     "data": {
      "text/html": [
       "<div>\n",
       "<style scoped>\n",
       "    .dataframe tbody tr th:only-of-type {\n",
       "        vertical-align: middle;\n",
       "    }\n",
       "\n",
       "    .dataframe tbody tr th {\n",
       "        vertical-align: top;\n",
       "    }\n",
       "\n",
       "    .dataframe thead th {\n",
       "        text-align: right;\n",
       "    }\n",
       "</style>\n",
       "<table border=\"1\" class=\"dataframe\">\n",
       "  <thead>\n",
       "    <tr style=\"text-align: right;\">\n",
       "      <th></th>\n",
       "      <th>App</th>\n",
       "      <th>Category</th>\n",
       "      <th>Rating</th>\n",
       "      <th>Reviews</th>\n",
       "      <th>Size</th>\n",
       "      <th>Installs</th>\n",
       "      <th>Type</th>\n",
       "      <th>Price</th>\n",
       "      <th>Content Rating</th>\n",
       "      <th>Genres</th>\n",
       "      <th>Last Updated</th>\n",
       "      <th>Current Ver</th>\n",
       "      <th>Android Ver</th>\n",
       "      <th>Distribution</th>\n",
       "    </tr>\n",
       "  </thead>\n",
       "  <tbody>\n",
       "    <tr>\n",
       "      <th>4367</th>\n",
       "      <td>I'm Rich - Trump Edition</td>\n",
       "      <td>Lifestyle</td>\n",
       "      <td>3.6</td>\n",
       "      <td>275.0</td>\n",
       "      <td>7654604.8</td>\n",
       "      <td>10000</td>\n",
       "      <td>Paid</td>\n",
       "      <td>400.00</td>\n",
       "      <td>Everyone</td>\n",
       "      <td>Lifestyle</td>\n",
       "      <td>3-May-18</td>\n",
       "      <td>1.0.1</td>\n",
       "      <td>4.1 and up</td>\n",
       "      <td>Paid</td>\n",
       "    </tr>\n",
       "    <tr>\n",
       "      <th>5358</th>\n",
       "      <td>I am Rich!</td>\n",
       "      <td>Finance</td>\n",
       "      <td>3.8</td>\n",
       "      <td>93.0</td>\n",
       "      <td>23068672.0</td>\n",
       "      <td>1000</td>\n",
       "      <td>Paid</td>\n",
       "      <td>399.99</td>\n",
       "      <td>Everyone</td>\n",
       "      <td>Finance</td>\n",
       "      <td>11-Dec-17</td>\n",
       "      <td>1</td>\n",
       "      <td>4.1 and up</td>\n",
       "      <td>Paid</td>\n",
       "    </tr>\n",
       "    <tr>\n",
       "      <th>5356</th>\n",
       "      <td>I Am Rich Premium</td>\n",
       "      <td>Finance</td>\n",
       "      <td>4.1</td>\n",
       "      <td>1867.0</td>\n",
       "      <td>4928307.2</td>\n",
       "      <td>50000</td>\n",
       "      <td>Paid</td>\n",
       "      <td>399.99</td>\n",
       "      <td>Everyone</td>\n",
       "      <td>Finance</td>\n",
       "      <td>12-Nov-17</td>\n",
       "      <td>1.6</td>\n",
       "      <td>4.0 and up</td>\n",
       "      <td>Paid</td>\n",
       "    </tr>\n",
       "    <tr>\n",
       "      <th>5362</th>\n",
       "      <td>I Am Rich Pro</td>\n",
       "      <td>Family</td>\n",
       "      <td>4.4</td>\n",
       "      <td>201.0</td>\n",
       "      <td>2831155.2</td>\n",
       "      <td>5000</td>\n",
       "      <td>Paid</td>\n",
       "      <td>399.99</td>\n",
       "      <td>Everyone</td>\n",
       "      <td>Entertainment</td>\n",
       "      <td>30-May-17</td>\n",
       "      <td>1.54</td>\n",
       "      <td>1.6 and up</td>\n",
       "      <td>Paid</td>\n",
       "    </tr>\n",
       "    <tr>\n",
       "      <th>4197</th>\n",
       "      <td>most expensive app (H)</td>\n",
       "      <td>Family</td>\n",
       "      <td>4.3</td>\n",
       "      <td>6.0</td>\n",
       "      <td>1572864.0</td>\n",
       "      <td>100</td>\n",
       "      <td>Paid</td>\n",
       "      <td>399.99</td>\n",
       "      <td>Everyone</td>\n",
       "      <td>Entertainment</td>\n",
       "      <td>16-Jul-18</td>\n",
       "      <td>1</td>\n",
       "      <td>7.0 and up</td>\n",
       "      <td>Paid</td>\n",
       "    </tr>\n",
       "  </tbody>\n",
       "</table>\n",
       "</div>"
      ],
      "text/plain": [
       "                           App   Category  Rating  Reviews        Size  \\\n",
       "4367  I'm Rich - Trump Edition  Lifestyle     3.6    275.0   7654604.8   \n",
       "5358                I am Rich!    Finance     3.8     93.0  23068672.0   \n",
       "5356         I Am Rich Premium    Finance     4.1   1867.0   4928307.2   \n",
       "5362             I Am Rich Pro     Family     4.4    201.0   2831155.2   \n",
       "4197    most expensive app (H)     Family     4.3      6.0   1572864.0   \n",
       "\n",
       "      Installs  Type   Price Content Rating         Genres Last Updated  \\\n",
       "4367     10000  Paid  400.00       Everyone      Lifestyle     3-May-18   \n",
       "5358      1000  Paid  399.99       Everyone        Finance    11-Dec-17   \n",
       "5356     50000  Paid  399.99       Everyone        Finance    12-Nov-17   \n",
       "5362      5000  Paid  399.99       Everyone  Entertainment    30-May-17   \n",
       "4197       100  Paid  399.99       Everyone  Entertainment    16-Jul-18   \n",
       "\n",
       "     Current Ver Android Ver Distribution  \n",
       "4367       1.0.1  4.1 and up         Paid  \n",
       "5358           1  4.1 and up         Paid  \n",
       "5356         1.6  4.0 and up         Paid  \n",
       "5362        1.54  1.6 and up         Paid  \n",
       "4197           1  7.0 and up         Paid  "
      ]
     },
     "execution_count": 30,
     "metadata": {},
     "output_type": "execute_result"
    }
   ],
   "source": [
    "df.sort_values(by='Price', ascending=False).head()"
   ]
  },
  {
   "cell_type": "markdown",
   "id": "43a9f1ed-f420-45cb-a898-17f92a7496dd",
   "metadata": {},
   "source": [
    "### 14. What's the name of the most expensive game?"
   ]
  },
  {
   "cell_type": "code",
   "execution_count": 71,
   "id": "c2ba0b1e-cf62-49ff-84b1-b5d344e98e6c",
   "metadata": {},
   "outputs": [
    {
     "data": {
      "text/html": [
       "<div>\n",
       "<style scoped>\n",
       "    .dataframe tbody tr th:only-of-type {\n",
       "        vertical-align: middle;\n",
       "    }\n",
       "\n",
       "    .dataframe tbody tr th {\n",
       "        vertical-align: top;\n",
       "    }\n",
       "\n",
       "    .dataframe thead th {\n",
       "        text-align: right;\n",
       "    }\n",
       "</style>\n",
       "<table border=\"1\" class=\"dataframe\">\n",
       "  <thead>\n",
       "    <tr style=\"text-align: right;\">\n",
       "      <th></th>\n",
       "      <th>App</th>\n",
       "      <th>Category</th>\n",
       "      <th>Rating</th>\n",
       "      <th>Reviews</th>\n",
       "      <th>Size</th>\n",
       "      <th>Installs</th>\n",
       "      <th>Type</th>\n",
       "      <th>Price</th>\n",
       "      <th>Content Rating</th>\n",
       "      <th>Genres</th>\n",
       "      <th>Last Updated</th>\n",
       "      <th>Current Ver</th>\n",
       "      <th>Android Ver</th>\n",
       "      <th>Distribution</th>\n",
       "    </tr>\n",
       "  </thead>\n",
       "  <tbody>\n",
       "    <tr>\n",
       "      <th>4203</th>\n",
       "      <td>The World Ends With You</td>\n",
       "      <td>Game</td>\n",
       "      <td>4.6</td>\n",
       "      <td>4108.0</td>\n",
       "      <td>13631488.0</td>\n",
       "      <td>10000</td>\n",
       "      <td>Paid</td>\n",
       "      <td>17.99</td>\n",
       "      <td>Everyone 10+</td>\n",
       "      <td>Arcade</td>\n",
       "      <td>14-Dec-15</td>\n",
       "      <td>1.0.4</td>\n",
       "      <td>4.0 and up</td>\n",
       "      <td>Paid</td>\n",
       "    </tr>\n",
       "  </tbody>\n",
       "</table>\n",
       "</div>"
      ],
      "text/plain": [
       "                          App Category  Rating  Reviews        Size  Installs  \\\n",
       "4203  The World Ends With You     Game     4.6   4108.0  13631488.0     10000   \n",
       "\n",
       "      Type  Price Content Rating  Genres Last Updated Current Ver Android Ver  \\\n",
       "4203  Paid  17.99   Everyone 10+  Arcade    14-Dec-15       1.0.4  4.0 and up   \n",
       "\n",
       "     Distribution  \n",
       "4203         Paid  "
      ]
     },
     "execution_count": 71,
     "metadata": {},
     "output_type": "execute_result"
    }
   ],
   "source": [
    "df.loc[df['Category']=='Game'].sort_values('Price',ascending=False).head(1)"
   ]
  },
  {
   "cell_type": "markdown",
   "id": "40902413-0cb4-44d6-8ff6-444a8cf3c99f",
   "metadata": {},
   "source": [
    "### 15. Which is the most popular Finance App?"
   ]
  },
  {
   "cell_type": "code",
   "execution_count": 63,
   "id": "17faf379-1b59-4bf0-ba71-e32150c81887",
   "metadata": {},
   "outputs": [
    {
     "data": {
      "text/plain": [
       "array(['Sports', 'Comics', 'Social', 'Tools', 'Communication',\n",
       "       'News and magazines', 'Health and fitness', 'Family',\n",
       "       'Books and reference', 'Lifestyle', 'Business', 'Shopping',\n",
       "       'Medical', 'Game', 'Finance', 'Personalization', 'Photography',\n",
       "       'Travel and local', 'Dating', 'Productivity', 'Art and design',\n",
       "       'Food and drink', 'Video players', 'House and home',\n",
       "       'Maps and navigation', 'Events', 'Education', 'Auto and vehicles',\n",
       "       'Weather', 'Beauty', 'Entertainment', 'Libraries and demo',\n",
       "       'Parenting'], dtype=object)"
      ]
     },
     "execution_count": 63,
     "metadata": {},
     "output_type": "execute_result"
    }
   ],
   "source": [
    "df['Category'].unique()"
   ]
  },
  {
   "cell_type": "code",
   "execution_count": 64,
   "id": "9847d65f-1921-4b54-b955-f0e7b9d81351",
   "metadata": {},
   "outputs": [
    {
     "data": {
      "text/plain": [
       "1000000000"
      ]
     },
     "execution_count": 64,
     "metadata": {},
     "output_type": "execute_result"
    }
   ],
   "source": [
    "df['Installs'].max()"
   ]
  },
  {
   "cell_type": "code",
   "execution_count": 70,
   "id": "770dffd9-224e-4d8e-bf26-be6422eff704",
   "metadata": {},
   "outputs": [
    {
     "data": {
      "text/html": [
       "<div>\n",
       "<style scoped>\n",
       "    .dataframe tbody tr th:only-of-type {\n",
       "        vertical-align: middle;\n",
       "    }\n",
       "\n",
       "    .dataframe tbody tr th {\n",
       "        vertical-align: top;\n",
       "    }\n",
       "\n",
       "    .dataframe thead th {\n",
       "        text-align: right;\n",
       "    }\n",
       "</style>\n",
       "<table border=\"1\" class=\"dataframe\">\n",
       "  <thead>\n",
       "    <tr style=\"text-align: right;\">\n",
       "      <th></th>\n",
       "      <th>App</th>\n",
       "      <th>Category</th>\n",
       "      <th>Rating</th>\n",
       "      <th>Reviews</th>\n",
       "      <th>Size</th>\n",
       "      <th>Installs</th>\n",
       "      <th>Type</th>\n",
       "      <th>Price</th>\n",
       "      <th>Content Rating</th>\n",
       "      <th>Genres</th>\n",
       "      <th>Last Updated</th>\n",
       "      <th>Current Ver</th>\n",
       "      <th>Android Ver</th>\n",
       "      <th>Distribution</th>\n",
       "    </tr>\n",
       "  </thead>\n",
       "  <tbody>\n",
       "    <tr>\n",
       "      <th>5601</th>\n",
       "      <td>Google Pay</td>\n",
       "      <td>Finance</td>\n",
       "      <td>4.2</td>\n",
       "      <td>348132.0</td>\n",
       "      <td>0.0</td>\n",
       "      <td>100000000</td>\n",
       "      <td>Free</td>\n",
       "      <td>0.0</td>\n",
       "      <td>Everyone</td>\n",
       "      <td>Finance</td>\n",
       "      <td>26-Jul-18</td>\n",
       "      <td>2.70.206190089</td>\n",
       "      <td>Varies with device</td>\n",
       "      <td>Free</td>\n",
       "    </tr>\n",
       "  </tbody>\n",
       "</table>\n",
       "</div>"
      ],
      "text/plain": [
       "             App Category  Rating   Reviews  Size   Installs  Type  Price  \\\n",
       "5601  Google Pay  Finance     4.2  348132.0   0.0  100000000  Free    0.0   \n",
       "\n",
       "     Content Rating   Genres Last Updated     Current Ver         Android Ver  \\\n",
       "5601       Everyone  Finance    26-Jul-18  2.70.206190089  Varies with device   \n",
       "\n",
       "     Distribution  \n",
       "5601         Free  "
      ]
     },
     "execution_count": 70,
     "metadata": {},
     "output_type": "execute_result"
    }
   ],
   "source": [
    "df.loc[df['Category']=='Finance'].sort_values('Installs',ascending=False).head(1)"
   ]
  },
  {
   "cell_type": "markdown",
   "id": "f7cecc0d-9495-451c-a69f-6eb7b51e597d",
   "metadata": {},
   "source": [
    "### 16. What Teen Game has the most reviews?"
   ]
  },
  {
   "cell_type": "code",
   "execution_count": 81,
   "id": "257dd059-b3aa-414b-af64-d06e94ab6d51",
   "metadata": {},
   "outputs": [
    {
     "data": {
      "text/html": [
       "<div>\n",
       "<style scoped>\n",
       "    .dataframe tbody tr th:only-of-type {\n",
       "        vertical-align: middle;\n",
       "    }\n",
       "\n",
       "    .dataframe tbody tr th {\n",
       "        vertical-align: top;\n",
       "    }\n",
       "\n",
       "    .dataframe thead th {\n",
       "        text-align: right;\n",
       "    }\n",
       "</style>\n",
       "<table border=\"1\" class=\"dataframe\">\n",
       "  <thead>\n",
       "    <tr style=\"text-align: right;\">\n",
       "      <th></th>\n",
       "      <th>App</th>\n",
       "      <th>Category</th>\n",
       "      <th>Rating</th>\n",
       "      <th>Reviews</th>\n",
       "      <th>Size</th>\n",
       "      <th>Installs</th>\n",
       "      <th>Type</th>\n",
       "      <th>Price</th>\n",
       "      <th>Content Rating</th>\n",
       "      <th>Genres</th>\n",
       "      <th>Last Updated</th>\n",
       "      <th>Current Ver</th>\n",
       "      <th>Android Ver</th>\n",
       "      <th>Distribution</th>\n",
       "    </tr>\n",
       "  </thead>\n",
       "  <tbody>\n",
       "    <tr>\n",
       "      <th>3912</th>\n",
       "      <td>Asphalt 8: Airborne</td>\n",
       "      <td>Game</td>\n",
       "      <td>4.5</td>\n",
       "      <td>8389714.0</td>\n",
       "      <td>96468992.0</td>\n",
       "      <td>100000000</td>\n",
       "      <td>Free</td>\n",
       "      <td>0.0</td>\n",
       "      <td>Teen</td>\n",
       "      <td>Racing</td>\n",
       "      <td>4-Jul-18</td>\n",
       "      <td>3.7.1a</td>\n",
       "      <td>4.0.3 and up</td>\n",
       "      <td>Free</td>\n",
       "    </tr>\n",
       "  </tbody>\n",
       "</table>\n",
       "</div>"
      ],
      "text/plain": [
       "                      App Category  Rating    Reviews        Size   Installs  \\\n",
       "3912  Asphalt 8: Airborne     Game     4.5  8389714.0  96468992.0  100000000   \n",
       "\n",
       "      Type  Price Content Rating  Genres Last Updated Current Ver  \\\n",
       "3912  Free    0.0           Teen  Racing     4-Jul-18      3.7.1a   \n",
       "\n",
       "       Android Ver Distribution  \n",
       "3912  4.0.3 and up         Free  "
      ]
     },
     "execution_count": 81,
     "metadata": {},
     "output_type": "execute_result"
    }
   ],
   "source": [
    "df.loc[(df['Category']=='Game') & (df['Content Rating']=='Teen')].sort_values('Reviews',ascending=False).head(1)"
   ]
  },
  {
   "cell_type": "markdown",
   "id": "a5ecf2c5-1ee8-45ed-9531-dda7a0a8afa6",
   "metadata": {},
   "source": [
    "### 17. Which is the free game with the most reviews?"
   ]
  },
  {
   "cell_type": "code",
   "execution_count": 88,
   "id": "e5a0e07d-6aea-4dff-80fe-dfd4ea36ac04",
   "metadata": {},
   "outputs": [
    {
     "data": {
      "text/html": [
       "<div>\n",
       "<style scoped>\n",
       "    .dataframe tbody tr th:only-of-type {\n",
       "        vertical-align: middle;\n",
       "    }\n",
       "\n",
       "    .dataframe tbody tr th {\n",
       "        vertical-align: top;\n",
       "    }\n",
       "\n",
       "    .dataframe thead th {\n",
       "        text-align: right;\n",
       "    }\n",
       "</style>\n",
       "<table border=\"1\" class=\"dataframe\">\n",
       "  <thead>\n",
       "    <tr style=\"text-align: right;\">\n",
       "      <th></th>\n",
       "      <th>App</th>\n",
       "      <th>Category</th>\n",
       "      <th>Rating</th>\n",
       "      <th>Reviews</th>\n",
       "      <th>Size</th>\n",
       "      <th>Installs</th>\n",
       "      <th>Type</th>\n",
       "      <th>Price</th>\n",
       "      <th>Content Rating</th>\n",
       "      <th>Genres</th>\n",
       "      <th>Last Updated</th>\n",
       "      <th>Current Ver</th>\n",
       "      <th>Android Ver</th>\n",
       "      <th>Distribution</th>\n",
       "    </tr>\n",
       "  </thead>\n",
       "  <tbody>\n",
       "    <tr>\n",
       "      <th>1879</th>\n",
       "      <td>Clash of Clans</td>\n",
       "      <td>Game</td>\n",
       "      <td>4.6</td>\n",
       "      <td>44893888.0</td>\n",
       "      <td>102760448.0</td>\n",
       "      <td>100000000</td>\n",
       "      <td>Free</td>\n",
       "      <td>0.0</td>\n",
       "      <td>Everyone 10+</td>\n",
       "      <td>Strategy</td>\n",
       "      <td>15-Jul-18</td>\n",
       "      <td>10.322.16</td>\n",
       "      <td>4.1 and up</td>\n",
       "      <td>Free</td>\n",
       "    </tr>\n",
       "  </tbody>\n",
       "</table>\n",
       "</div>"
      ],
      "text/plain": [
       "                 App Category  Rating     Reviews         Size   Installs  \\\n",
       "1879  Clash of Clans     Game     4.6  44893888.0  102760448.0  100000000   \n",
       "\n",
       "      Type  Price Content Rating    Genres Last Updated Current Ver  \\\n",
       "1879  Free    0.0   Everyone 10+  Strategy    15-Jul-18   10.322.16   \n",
       "\n",
       "     Android Ver Distribution  \n",
       "1879  4.1 and up         Free  "
      ]
     },
     "execution_count": 88,
     "metadata": {},
     "output_type": "execute_result"
    }
   ],
   "source": [
    "df.loc[(df['Category']=='Game') & (df['Type']=='Free')].sort_values('Reviews',ascending=False).head(1)"
   ]
  },
  {
   "cell_type": "markdown",
   "id": "b1ffa6cf-f46e-4691-9b77-9d249573a99b",
   "metadata": {},
   "source": [
    "### 18. How many Tb (tebibytes) were transferred (overall) for the most popular Lifestyle app?"
   ]
  },
  {
   "cell_type": "code",
   "execution_count": 85,
   "id": "4a051d00-1ffd-4415-8f76-f700eebaa52d",
   "metadata": {},
   "outputs": [
    {
     "data": {
      "text/plain": [
       "App                   Tinder\n",
       "Category           Lifestyle\n",
       "Rating                   4.0\n",
       "Reviews            2789775.0\n",
       "Size              71303168.0\n",
       "Installs           100000000\n",
       "Type                    Free\n",
       "Price                    0.0\n",
       "Content Rating    Mature 17+\n",
       "Genres             Lifestyle\n",
       "Last Updated        2-Aug-18\n",
       "Current Ver            9.5.0\n",
       "Android Ver       4.4 and up\n",
       "Distribution            Free\n",
       "Name: 4587, dtype: object"
      ]
     },
     "execution_count": 85,
     "metadata": {},
     "output_type": "execute_result"
    }
   ],
   "source": [
    "app=df.loc[(df['Category']=='Lifestyle')].sort_values('Installs',ascending=False).iloc[0]\n",
    "app"
   ]
  },
  {
   "cell_type": "code",
   "execution_count": 86,
   "id": "d8747f4f-6b41-41d2-8292-704a25543ec3",
   "metadata": {},
   "outputs": [
    {
     "data": {
      "text/plain": [
       "6484.9853515625"
      ]
     },
     "execution_count": 86,
     "metadata": {},
     "output_type": "execute_result"
    }
   ],
   "source": [
    "(app['Installs'] * app['Size']) / (1024 * 1024 * 1024 * 1024)"
   ]
  },
  {
   "cell_type": "code",
   "execution_count": null,
   "id": "893da015-ea06-46f4-9910-a04edeea07d8",
   "metadata": {},
   "outputs": [],
   "source": []
  }
 ],
 "metadata": {
  "kernelspec": {
   "display_name": "Python 3 (ipykernel)",
   "language": "python",
   "name": "python3"
  },
  "language_info": {
   "codemirror_mode": {
    "name": "ipython",
    "version": 3
   },
   "file_extension": ".py",
   "mimetype": "text/x-python",
   "name": "python",
   "nbconvert_exporter": "python",
   "pygments_lexer": "ipython3",
   "version": "3.11.7"
  }
 },
 "nbformat": 4,
 "nbformat_minor": 5
}
